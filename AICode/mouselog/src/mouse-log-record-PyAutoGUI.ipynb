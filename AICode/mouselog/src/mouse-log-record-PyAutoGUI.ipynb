{
 "cells": [
  {
   "cell_type": "code",
   "execution_count": 3,
   "metadata": {},
   "outputs": [],
   "source": [
    "import pyautogui\n",
    "import os\n",
    "from dotenv import load_dotenv\n",
    "# after setting up the environment variable, have to restart the computer\n",
    "load_dotenv()\n",
    "password = os.getenv('tws_pw')\n",
    "\n"
   ]
  },
  {
   "cell_type": "code",
   "execution_count": 4,
   "metadata": {},
   "outputs": [],
   "source": [
    "pyautogui.click(x=490, y=1056)\n",
    "pyautogui.sleep(2)\n",
    "pyautogui.typewrite('tws', interval=0.2)\n",
    "pyautogui.press('enter')\n",
    "pyautogui.sleep(10)\n",
    "pyautogui.typewrite('danielyouk', interval=0.2)\n",
    "pyautogui.press('tab')\n",
    "pyautogui.sleep(2)\n",
    "\n",
    "# F11 to maximize the window\n",
    "pyautogui.hotkey('f11')\n",
    "\n",
    "pyautogui.typewrite(password, interval=0.2)\n",
    "pyautogui.press('enter')\n",
    "pyautogui.sleep(30)\n",
    "pyautogui.press('enter')"
   ]
  },
  {
   "cell_type": "code",
   "execution_count": null,
   "metadata": {},
   "outputs": [],
   "source": [
    "pyautogui.moveTo(x=100, y=100)"
   ]
  },
  {
   "cell_type": "code",
   "execution_count": 5,
   "metadata": {},
   "outputs": [],
   "source": [
    "import pyperclip\n",
    "pyautogui.click(x=438, y=1056)\n",
    "pyautogui.sleep(2)\n",
    "pyautogui.typewrite('chrome', interval=0.2)\n",
    "pyautogui.press('enter')\n",
    "pyautogui.sleep(2)\n",
    "pyautogui.click(x=972, y=612)\n",
    "pyautogui.sleep(2)\n",
    "# double click the address bar\n",
    "pyautogui.click(x=534, y=19)\n",
    "pyautogui.sleep(2)\n",
    "pyautogui.doubleClick(x=336, y=62)\n",
    "pyautogui.sleep(2)\n",
    "\n",
    "# Copy the string to the clipboard\n",
    "pyperclip.copy('https://portal.azure.com/')\n",
    "\n",
    "# Paste from the clipboard\n",
    "pyautogui.hotkey('ctrl', 'v')\n",
    "\n",
    "pyautogui.press('enter')"
   ]
  }
 ],
 "metadata": {
  "kernelspec": {
   "display_name": "myenv-mustai",
   "language": "python",
   "name": "python3"
  },
  "language_info": {
   "codemirror_mode": {
    "name": "ipython",
    "version": 3
   },
   "file_extension": ".py",
   "mimetype": "text/x-python",
   "name": "python",
   "nbconvert_exporter": "python",
   "pygments_lexer": "ipython3",
   "version": "3.11.5"
  }
 },
 "nbformat": 4,
 "nbformat_minor": 2
}
