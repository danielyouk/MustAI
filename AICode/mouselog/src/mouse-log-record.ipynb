{
 "cells": [
  {
   "cell_type": "code",
   "execution_count": 1,
   "metadata": {},
   "outputs": [
    {
     "name": "stdout",
     "output_type": "stream",
     "text": [
      "Left click Pressed at (1204, 171)\n",
      "Left click Released at (1204, 171)\n",
      "Left click Pressed at (1204, 171)\n",
      "Left click Released at (1204, 171)\n",
      "Left click Pressed at (-1523, 116)\n",
      "Left click Released at (-1523, 116)\n"
     ]
    }
   ],
   "source": [
    "from pynput import mouse\n",
    "\n",
    "def on_move(x, y):\n",
    "    print('Pointer moved to {0}'.format((x, y)))\n",
    "\n",
    "def on_click(x, y, button, pressed):\n",
    "    # Distinguish between left and right clicks\n",
    "    if button == mouse.Button.left:\n",
    "        click_type = 'Left click'\n",
    "    elif button == mouse.Button.right:\n",
    "        click_type = 'Right click'\n",
    "    else:\n",
    "        click_type = 'Other click'\n",
    "\n",
    "    print('{0} {1} at {2}'.format(click_type, 'Pressed' if pressed else 'Released', (x, y)))\n",
    "\n",
    "def on_scroll(x, y, dx, dy):\n",
    "    print('Scrolled {0} at {1}'.format('down' if dy < 0 else 'up', (x, y)))\n",
    "\n",
    "listener = mouse.Listener(\n",
    "    # on_move=on_move,\n",
    "    on_click=on_click,\n",
    "    # on_scroll=on_scroll\n",
    ")\n",
    "listener.start()\n",
    "\n",
    "try:\n",
    "    listener.join()  # Wait for the listener thread to be stopped\n",
    "except KeyboardInterrupt:\n",
    "    listener.stop()\n"
   ]
  },
  {
   "cell_type": "code",
   "execution_count": null,
   "metadata": {},
   "outputs": [],
   "source": [
    "mouse.Listener()"
   ]
  }
 ],
 "metadata": {
  "kernelspec": {
   "display_name": "myenv-mustai",
   "language": "python",
   "name": "python3"
  },
  "language_info": {
   "codemirror_mode": {
    "name": "ipython",
    "version": 3
   },
   "file_extension": ".py",
   "mimetype": "text/x-python",
   "name": "python",
   "nbconvert_exporter": "python",
   "pygments_lexer": "ipython3",
   "version": "3.11.5"
  }
 },
 "nbformat": 4,
 "nbformat_minor": 2
}
